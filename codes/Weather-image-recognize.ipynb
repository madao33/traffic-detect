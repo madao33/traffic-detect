{
 "metadata": {
  "language_info": {
   "codemirror_mode": {
    "name": "ipython",
    "version": 3
   },
   "file_extension": ".py",
   "mimetype": "text/x-python",
   "name": "python",
   "nbconvert_exporter": "python",
   "pygments_lexer": "ipython3",
   "version": "3.8.5-final"
  },
  "orig_nbformat": 2,
  "kernelspec": {
   "name": "python3",
   "display_name": "Python 3.8.5 64-bit",
   "metadata": {
    "interpreter": {
     "hash": "31f2aee4e71d21fbe5cf8b01ff0e069b9275f58929596ceb00d14d90e3e16cd6"
    }
   }
  }
 },
 "nbformat": 4,
 "nbformat_minor": 2,
 "cells": [
  {
   "source": [
    "# 天气图像分类\n",
    "\n",
    "分类天气图像，根据之前提取之前的特征分类处理"
   ],
   "cell_type": "markdown",
   "metadata": {}
  },
  {
   "cell_type": "code",
   "execution_count": 1,
   "metadata": {},
   "outputs": [],
   "source": [
    "# import modules\n",
    "import numpy as np\n",
    "import  matplotlib.pyplot as pl "
   ]
  },
  {
   "source": [
    "## 读取numpy保存的二进制数据\n",
    "\n",
    "直接使用numpy读取保存的'.bin'数据，并调整对应的矩阵维度"
   ],
   "cell_type": "markdown",
   "metadata": {}
  },
  {
   "cell_type": "code",
   "execution_count": 23,
   "metadata": {},
   "outputs": [],
   "source": [
    "# features_path = \"../datasets/classification/weather_classification/features.bin\"\n",
    "# labels_path = \"../datasets/classification/weather_classification/labels.bin\"\n",
    "\n",
    "features_path = '../datasets/MWD/features.bin'\n",
    "labels_path = '../datasets/MWD/labels.bin'"
   ]
  },
  {
   "cell_type": "code",
   "execution_count": 24,
   "metadata": {},
   "outputs": [],
   "source": [
    "features = np.fromfile(features_path, dtype=np.float32)\n",
    "labels = np.fromfile(labels_path, dtype=np.uint8)\n",
    "\n",
    "# 更改矩阵维度\n",
    "labels = labels.reshape((labels.shape[0], -1))\n",
    "features = features.reshape((labels.shape[0], -1))"
   ]
  },
  {
   "cell_type": "code",
   "execution_count": 25,
   "metadata": {},
   "outputs": [
    {
     "output_type": "execute_result",
     "data": {
      "text/plain": [
       "(50768, 200)"
      ]
     },
     "metadata": {},
     "execution_count": 25
    }
   ],
   "source": [
    "features.shape"
   ]
  },
  {
   "cell_type": "code",
   "execution_count": 26,
   "metadata": {},
   "outputs": [
    {
     "output_type": "execute_result",
     "data": {
      "text/plain": [
       "50768"
      ]
     },
     "metadata": {},
     "execution_count": 26
    }
   ],
   "source": [
    "labels.shape[0]"
   ]
  },
  {
   "cell_type": "code",
   "execution_count": 27,
   "metadata": {},
   "outputs": [
    {
     "output_type": "execute_result",
     "data": {
      "text/plain": [
       "20302"
      ]
     },
     "metadata": {},
     "execution_count": 27
    }
   ],
   "source": [
    "y_0 = (labels == 0)\n",
    "y_0.sum()"
   ]
  },
  {
   "cell_type": "code",
   "execution_count": 28,
   "metadata": {},
   "outputs": [
    {
     "output_type": "execute_result",
     "data": {
      "text/plain": [
       "10214"
      ]
     },
     "metadata": {},
     "execution_count": 28
    }
   ],
   "source": [
    "y_1 = (labels == 1)\n",
    "y_1.sum()"
   ]
  },
  {
   "cell_type": "code",
   "execution_count": 29,
   "metadata": {},
   "outputs": [
    {
     "output_type": "execute_result",
     "data": {
      "text/plain": [
       "20252"
      ]
     },
     "metadata": {},
     "execution_count": 29
    }
   ],
   "source": [
    "y_2 = (labels == 2)\n",
    "y_2.sum()"
   ]
  },
  {
   "source": [
    "## 机器学习分类尝试\n",
    "\n",
    "### 数据集划分\n",
    "\n",
    "首先是将数据集划分为训练集和测试集"
   ],
   "cell_type": "markdown",
   "metadata": {}
  },
  {
   "cell_type": "code",
   "execution_count": 30,
   "metadata": {},
   "outputs": [],
   "source": [
    "# import modules\n",
    "from sklearn.model_selection import train_test_split"
   ]
  },
  {
   "cell_type": "code",
   "execution_count": 31,
   "metadata": {},
   "outputs": [],
   "source": [
    "X_train, X_valid, y_train, y_valid = train_test_split(features, labels, test_size = 0.2)"
   ]
  },
  {
   "cell_type": "code",
   "execution_count": 32,
   "metadata": {},
   "outputs": [
    {
     "output_type": "execute_result",
     "data": {
      "text/plain": [
       "(40614, 200)"
      ]
     },
     "metadata": {},
     "execution_count": 32
    }
   ],
   "source": [
    "X_train.shape"
   ]
  },
  {
   "cell_type": "code",
   "execution_count": 33,
   "metadata": {},
   "outputs": [
    {
     "output_type": "execute_result",
     "data": {
      "text/plain": [
       "(10154, 200)"
      ]
     },
     "metadata": {},
     "execution_count": 33
    }
   ],
   "source": [
    "X_valid.shape"
   ]
  },
  {
   "source": [
    "### 机器学习模型拟合分类"
   ],
   "cell_type": "markdown",
   "metadata": {}
  },
  {
   "source": [
    "# DecisionTree\n",
    "from sklearn.tree import DecisionTreeClassifier\n",
    "from sklearn.metrics import accuracy_score\n",
    "from sklearn.metrics import confusion_matrix\n",
    "\n",
    "dt_model = DecisionTreeClassifier(random_state = 42)\n",
    "dt_model.fit(X_train, y_train)\n",
    "dt_prediction = dt_model.predict(X_valid)\n",
    "dt_conf = confusion_matrix(y_valid, dt_prediction)\n",
    "print('decission tree valid confusion matrix:\\n{}'.format(dt_conf))\n",
    "print('decision tree valid accuracy:{}'.format(accuracy_score(y_valid, dt_prediction)))"
   ],
   "cell_type": "code",
   "metadata": {},
   "execution_count": 34,
   "outputs": [
    {
     "output_type": "stream",
     "name": "stdout",
     "text": [
      "decission tree valid confusion matrix:\n[[2808  636  650]\n [ 571 1014  407]\n [ 709  480 2879]]\ndecision tree valid accuracy:0.6599369706519598\n"
     ]
    }
   ]
  },
  {
   "cell_type": "code",
   "execution_count": 35,
   "metadata": {},
   "outputs": [
    {
     "output_type": "stream",
     "name": "stdout",
     "text": [
      "random forest classifier confusion matrix:\n[[2984  526  584]\n [ 439 1228  325]\n [ 441  316 3311]]\nrandom forest classifier accuracy:0.7408902895410676\n"
     ]
    }
   ],
   "source": [
    "# randomForest\n",
    "from sklearn.ensemble import RandomForestClassifier\n",
    "from sklearn.metrics import confusion_matrix, accuracy_score\n",
    "\n",
    "rfc_model = RandomForestClassifier(n_estimators=178,n_jobs=-1)\n",
    "rfc_model.fit(X_train, y_train.ravel())\n",
    "\n",
    "rfc_prediction = rfc_model.predict(X_valid)\n",
    "rfc_conf = confusion_matrix(y_valid, rfc_prediction)\n",
    "print('random forest classifier confusion matrix:\\n{}'.format(rfc_conf))\n",
    "print('random forest classifier accuracy:{}'.format(accuracy_score(y_valid, rfc_prediction)))"
   ]
  },
  {
   "cell_type": "code",
   "execution_count": 36,
   "metadata": {},
   "outputs": [],
   "source": [
    "# AdaBoost\n",
    "# from sklearn.ensemble import AdaBoostClassifier\n",
    "\n",
    "# ada_clf = AdaBoostClassifier(\n",
    "#     DecisionTreeClassifier(), n_estimators=100,\n",
    "#     algorithm=\"SAMME.R\", learning_rate=0.5)\n",
    "# ada_clf.fit(X_train, y_train)\n",
    "\n",
    "# ada_prediction = ada_clf.predict(X_valid)\n",
    "# ada_conf = confusion_matrix(y_valid, rfc_prediction)\n",
    "# print('adaboost classifier confusion matrix:\\n{}'.format(ada_conf))\n",
    "# print('adaboost classifier accuracy:{}'.format(accuracy_score(y_valid, ada_prediction)))"
   ]
  },
  {
   "cell_type": "code",
   "execution_count": 46,
   "metadata": {},
   "outputs": [
    {
     "output_type": "stream",
     "name": "stderr",
     "text": [
      "/home/madao/.local/lib/python3.8/site-packages/xgboost/sklearn.py:888: UserWarning: The use of label encoder in XGBClassifier is deprecated and will be removed in a future release. To remove this warning, do the following: 1) Pass option use_label_encoder=False when constructing XGBClassifier object; and 2) Encode your labels (y) as integers starting with 0, i.e. 0, 1, 2, ..., [num_class - 1].\n",
      "  warnings.warn(label_encoder_deprecation_msg, UserWarning)\n",
      "[0]\tvalidation_0-mlogloss:1.00009\n",
      "[1]\tvalidation_0-mlogloss:0.93696\n",
      "[2]\tvalidation_0-mlogloss:0.89222\n",
      "[3]\tvalidation_0-mlogloss:0.86002\n",
      "[4]\tvalidation_0-mlogloss:0.83502\n",
      "[5]\tvalidation_0-mlogloss:0.81628\n",
      "[6]\tvalidation_0-mlogloss:0.80173\n",
      "[7]\tvalidation_0-mlogloss:0.78787\n",
      "[8]\tvalidation_0-mlogloss:0.77883\n",
      "[9]\tvalidation_0-mlogloss:0.77078\n",
      "[10]\tvalidation_0-mlogloss:0.76347\n",
      "[11]\tvalidation_0-mlogloss:0.75758\n",
      "[12]\tvalidation_0-mlogloss:0.75222\n",
      "[13]\tvalidation_0-mlogloss:0.74748\n",
      "[14]\tvalidation_0-mlogloss:0.74353\n",
      "[15]\tvalidation_0-mlogloss:0.73917\n",
      "[16]\tvalidation_0-mlogloss:0.73551\n",
      "[17]\tvalidation_0-mlogloss:0.73181\n",
      "[18]\tvalidation_0-mlogloss:0.72682\n",
      "[19]\tvalidation_0-mlogloss:0.72441\n",
      "[20]\tvalidation_0-mlogloss:0.72244\n",
      "[21]\tvalidation_0-mlogloss:0.71999\n",
      "[22]\tvalidation_0-mlogloss:0.71814\n",
      "[23]\tvalidation_0-mlogloss:0.71416\n",
      "[24]\tvalidation_0-mlogloss:0.71177\n",
      "[25]\tvalidation_0-mlogloss:0.70933\n",
      "[26]\tvalidation_0-mlogloss:0.70794\n",
      "[27]\tvalidation_0-mlogloss:0.70518\n",
      "[28]\tvalidation_0-mlogloss:0.70381\n",
      "[29]\tvalidation_0-mlogloss:0.70211\n",
      "[30]\tvalidation_0-mlogloss:0.70043\n",
      "[31]\tvalidation_0-mlogloss:0.69949\n",
      "[32]\tvalidation_0-mlogloss:0.69816\n",
      "[33]\tvalidation_0-mlogloss:0.69630\n",
      "[34]\tvalidation_0-mlogloss:0.69354\n",
      "[35]\tvalidation_0-mlogloss:0.69233\n",
      "[36]\tvalidation_0-mlogloss:0.69145\n",
      "[37]\tvalidation_0-mlogloss:0.68939\n",
      "[38]\tvalidation_0-mlogloss:0.68804\n",
      "[39]\tvalidation_0-mlogloss:0.68588\n",
      "[40]\tvalidation_0-mlogloss:0.68424\n",
      "[41]\tvalidation_0-mlogloss:0.68311\n",
      "[42]\tvalidation_0-mlogloss:0.68088\n",
      "[43]\tvalidation_0-mlogloss:0.68038\n",
      "[44]\tvalidation_0-mlogloss:0.67895\n",
      "[45]\tvalidation_0-mlogloss:0.67799\n",
      "[46]\tvalidation_0-mlogloss:0.67734\n",
      "[47]\tvalidation_0-mlogloss:0.67694\n",
      "[48]\tvalidation_0-mlogloss:0.67588\n",
      "[49]\tvalidation_0-mlogloss:0.67351\n",
      "[50]\tvalidation_0-mlogloss:0.67130\n",
      "[51]\tvalidation_0-mlogloss:0.66945\n",
      "[52]\tvalidation_0-mlogloss:0.66888\n",
      "[53]\tvalidation_0-mlogloss:0.66814\n",
      "[54]\tvalidation_0-mlogloss:0.66734\n",
      "[55]\tvalidation_0-mlogloss:0.66647\n",
      "[56]\tvalidation_0-mlogloss:0.66577\n",
      "[57]\tvalidation_0-mlogloss:0.66437\n",
      "[58]\tvalidation_0-mlogloss:0.66260\n",
      "[59]\tvalidation_0-mlogloss:0.66245\n",
      "[60]\tvalidation_0-mlogloss:0.66204\n",
      "[61]\tvalidation_0-mlogloss:0.66102\n",
      "[62]\tvalidation_0-mlogloss:0.65954\n",
      "[63]\tvalidation_0-mlogloss:0.65844\n",
      "[64]\tvalidation_0-mlogloss:0.65732\n",
      "[65]\tvalidation_0-mlogloss:0.65555\n",
      "[66]\tvalidation_0-mlogloss:0.65502\n",
      "[67]\tvalidation_0-mlogloss:0.65384\n",
      "[68]\tvalidation_0-mlogloss:0.65291\n",
      "[69]\tvalidation_0-mlogloss:0.65250\n",
      "[70]\tvalidation_0-mlogloss:0.65258\n",
      "[71]\tvalidation_0-mlogloss:0.65222\n",
      "[72]\tvalidation_0-mlogloss:0.65047\n",
      "[73]\tvalidation_0-mlogloss:0.64935\n",
      "[74]\tvalidation_0-mlogloss:0.64827\n",
      "[75]\tvalidation_0-mlogloss:0.64718\n",
      "[76]\tvalidation_0-mlogloss:0.64678\n",
      "[77]\tvalidation_0-mlogloss:0.64598\n",
      "[78]\tvalidation_0-mlogloss:0.64475\n",
      "[79]\tvalidation_0-mlogloss:0.64403\n",
      "[80]\tvalidation_0-mlogloss:0.64356\n",
      "[81]\tvalidation_0-mlogloss:0.64254\n",
      "[82]\tvalidation_0-mlogloss:0.64192\n",
      "[83]\tvalidation_0-mlogloss:0.64126\n",
      "[84]\tvalidation_0-mlogloss:0.64033\n",
      "[85]\tvalidation_0-mlogloss:0.63931\n",
      "[86]\tvalidation_0-mlogloss:0.63826\n",
      "[87]\tvalidation_0-mlogloss:0.63800\n",
      "[88]\tvalidation_0-mlogloss:0.63692\n",
      "[89]\tvalidation_0-mlogloss:0.63598\n",
      "[90]\tvalidation_0-mlogloss:0.63542\n",
      "[91]\tvalidation_0-mlogloss:0.63502\n",
      "[92]\tvalidation_0-mlogloss:0.63454\n",
      "[93]\tvalidation_0-mlogloss:0.63362\n",
      "[94]\tvalidation_0-mlogloss:0.63258\n",
      "[95]\tvalidation_0-mlogloss:0.63173\n",
      "[96]\tvalidation_0-mlogloss:0.63129\n",
      "[97]\tvalidation_0-mlogloss:0.63116\n",
      "[98]\tvalidation_0-mlogloss:0.63113\n",
      "[99]\tvalidation_0-mlogloss:0.63060\n",
      "[100]\tvalidation_0-mlogloss:0.63030\n",
      "[101]\tvalidation_0-mlogloss:0.62929\n",
      "[102]\tvalidation_0-mlogloss:0.62882\n",
      "[103]\tvalidation_0-mlogloss:0.62799\n",
      "[104]\tvalidation_0-mlogloss:0.62694\n",
      "[105]\tvalidation_0-mlogloss:0.62640\n",
      "[106]\tvalidation_0-mlogloss:0.62631\n",
      "[107]\tvalidation_0-mlogloss:0.62589\n",
      "[108]\tvalidation_0-mlogloss:0.62480\n",
      "[109]\tvalidation_0-mlogloss:0.62417\n",
      "[110]\tvalidation_0-mlogloss:0.62369\n",
      "[111]\tvalidation_0-mlogloss:0.62276\n",
      "[112]\tvalidation_0-mlogloss:0.62260\n",
      "[113]\tvalidation_0-mlogloss:0.62269\n",
      "[114]\tvalidation_0-mlogloss:0.62222\n",
      "[115]\tvalidation_0-mlogloss:0.62205\n",
      "[116]\tvalidation_0-mlogloss:0.62192\n",
      "[117]\tvalidation_0-mlogloss:0.62159\n",
      "[118]\tvalidation_0-mlogloss:0.62101\n",
      "[119]\tvalidation_0-mlogloss:0.62043\n",
      "[120]\tvalidation_0-mlogloss:0.62035\n",
      "[121]\tvalidation_0-mlogloss:0.62003\n",
      "[122]\tvalidation_0-mlogloss:0.62025\n",
      "[123]\tvalidation_0-mlogloss:0.62025\n",
      "[124]\tvalidation_0-mlogloss:0.62010\n",
      "[125]\tvalidation_0-mlogloss:0.61986\n",
      "[126]\tvalidation_0-mlogloss:0.61956\n",
      "[127]\tvalidation_0-mlogloss:0.61916\n",
      "[128]\tvalidation_0-mlogloss:0.61890\n",
      "[129]\tvalidation_0-mlogloss:0.61904\n",
      "[130]\tvalidation_0-mlogloss:0.61815\n",
      "[131]\tvalidation_0-mlogloss:0.61739\n",
      "[132]\tvalidation_0-mlogloss:0.61674\n",
      "[133]\tvalidation_0-mlogloss:0.61589\n",
      "[134]\tvalidation_0-mlogloss:0.61451\n",
      "[135]\tvalidation_0-mlogloss:0.61398\n",
      "[136]\tvalidation_0-mlogloss:0.61270\n",
      "[137]\tvalidation_0-mlogloss:0.61194\n",
      "[138]\tvalidation_0-mlogloss:0.61158\n",
      "[139]\tvalidation_0-mlogloss:0.61103\n",
      "[140]\tvalidation_0-mlogloss:0.61077\n",
      "[141]\tvalidation_0-mlogloss:0.61047\n",
      "[142]\tvalidation_0-mlogloss:0.61092\n",
      "[143]\tvalidation_0-mlogloss:0.61084\n",
      "[144]\tvalidation_0-mlogloss:0.60990\n",
      "[145]\tvalidation_0-mlogloss:0.60943\n",
      "[146]\tvalidation_0-mlogloss:0.60857\n",
      "[147]\tvalidation_0-mlogloss:0.60826\n",
      "[148]\tvalidation_0-mlogloss:0.60811\n",
      "[149]\tvalidation_0-mlogloss:0.60771\n",
      "[150]\tvalidation_0-mlogloss:0.60764\n",
      "[151]\tvalidation_0-mlogloss:0.60746\n",
      "[152]\tvalidation_0-mlogloss:0.60713\n",
      "[153]\tvalidation_0-mlogloss:0.60674\n",
      "[154]\tvalidation_0-mlogloss:0.60598\n",
      "[155]\tvalidation_0-mlogloss:0.60547\n",
      "[156]\tvalidation_0-mlogloss:0.60537\n",
      "[157]\tvalidation_0-mlogloss:0.60503\n",
      "[158]\tvalidation_0-mlogloss:0.60517\n",
      "[159]\tvalidation_0-mlogloss:0.60485\n",
      "[160]\tvalidation_0-mlogloss:0.60448\n",
      "[161]\tvalidation_0-mlogloss:0.60418\n",
      "[162]\tvalidation_0-mlogloss:0.60367\n",
      "[163]\tvalidation_0-mlogloss:0.60316\n",
      "[164]\tvalidation_0-mlogloss:0.60249\n",
      "[165]\tvalidation_0-mlogloss:0.60183\n",
      "[166]\tvalidation_0-mlogloss:0.60168\n",
      "[167]\tvalidation_0-mlogloss:0.60120\n",
      "[168]\tvalidation_0-mlogloss:0.60130\n",
      "[169]\tvalidation_0-mlogloss:0.60114\n",
      "[170]\tvalidation_0-mlogloss:0.60051\n",
      "[171]\tvalidation_0-mlogloss:0.60074\n",
      "[172]\tvalidation_0-mlogloss:0.60034\n",
      "[173]\tvalidation_0-mlogloss:0.60000\n",
      "[174]\tvalidation_0-mlogloss:0.59913\n",
      "[175]\tvalidation_0-mlogloss:0.59876\n",
      "[176]\tvalidation_0-mlogloss:0.59919\n",
      "[177]\tvalidation_0-mlogloss:0.59856\n",
      "[178]\tvalidation_0-mlogloss:0.59837\n",
      "[179]\tvalidation_0-mlogloss:0.59800\n",
      "[180]\tvalidation_0-mlogloss:0.59783\n",
      "[181]\tvalidation_0-mlogloss:0.59780\n",
      "[182]\tvalidation_0-mlogloss:0.59779\n",
      "[183]\tvalidation_0-mlogloss:0.59732\n",
      "[184]\tvalidation_0-mlogloss:0.59709\n",
      "[185]\tvalidation_0-mlogloss:0.59628\n",
      "[186]\tvalidation_0-mlogloss:0.59640\n",
      "[187]\tvalidation_0-mlogloss:0.59611\n",
      "[188]\tvalidation_0-mlogloss:0.59615\n",
      "[189]\tvalidation_0-mlogloss:0.59588\n",
      "[190]\tvalidation_0-mlogloss:0.59573\n",
      "[191]\tvalidation_0-mlogloss:0.59567\n",
      "[192]\tvalidation_0-mlogloss:0.59509\n",
      "[193]\tvalidation_0-mlogloss:0.59432\n",
      "[194]\tvalidation_0-mlogloss:0.59416\n",
      "[195]\tvalidation_0-mlogloss:0.59438\n",
      "[196]\tvalidation_0-mlogloss:0.59428\n",
      "[197]\tvalidation_0-mlogloss:0.59413\n",
      "[198]\tvalidation_0-mlogloss:0.59403\n",
      "[199]\tvalidation_0-mlogloss:0.59386\n",
      "[200]\tvalidation_0-mlogloss:0.59389\n",
      "[201]\tvalidation_0-mlogloss:0.59381\n",
      "[202]\tvalidation_0-mlogloss:0.59355\n",
      "[203]\tvalidation_0-mlogloss:0.59358\n",
      "[204]\tvalidation_0-mlogloss:0.59358\n",
      "[205]\tvalidation_0-mlogloss:0.59382\n",
      "[206]\tvalidation_0-mlogloss:0.59365\n",
      "[207]\tvalidation_0-mlogloss:0.59362\n",
      "xgboost classifier confusion matrix:\n",
      "[[2995  531  568]\n",
      " [ 447 1254  291]\n",
      " [ 461  266 3341]]\n",
      "xgboost classifier accuracy:0.747488674414024\n"
     ]
    }
   ],
   "source": [
    "# xgboost\n",
    "from xgboost import XGBClassifier\n",
    "from sklearn.metrics import confusion_matrix, accuracy_score\n",
    "\n",
    "xgb_model = XGBClassifier(n_estimators=1000, n_jobs=-1, eval_metric='mlogloss')\n",
    "xgb_model.fit(X_train, y_train.ravel(), early_stopping_rounds=5, eval_set=[(X_valid, y_valid.ravel())])\n",
    "\n",
    "# xgb_model = XGBClassifier(n_jobs=-1)\n",
    "# xgb_model.fit(X_train, y_train.ravel())\n",
    "\n",
    "prediction = xgb_model.predict(X_valid)\n",
    "conf = confusion_matrix(y_valid, prediction)\n",
    "print('xgboost classifier confusion matrix:\\n{}'.format(conf))\n",
    "print('xgboost classifier accuracy:{}'.format(accuracy_score(y_valid, prediction)))"
   ]
  },
  {
   "cell_type": "code",
   "execution_count": 38,
   "metadata": {},
   "outputs": [
    {
     "output_type": "execute_result",
     "data": {
      "text/plain": [
       "0.5791475564856916"
      ]
     },
     "metadata": {},
     "execution_count": 38
    }
   ],
   "source": [
    "from sklearn.metrics import cohen_kappa_score\n",
    "cohen_kappa_score(y_valid, prediction)"
   ]
  },
  {
   "source": [
    "# SVM too slow to train\n",
    "# from sklearn.svm import SVC\n",
    "# from sklearn.metrics import classification_report\n",
    "# svc_model = SVC(kernel='rbf', random_state=42, gamma=0.10, C=0.4)\n",
    "# svc_model.fit(X_train, y_train.ravel())\n",
    "\n",
    "# svc_prediction = svc_model.predict(X_valid)\n",
    "# print(classification_report(X_valid, svc_prediction))"
   ],
   "cell_type": "code",
   "metadata": {},
   "execution_count": 39,
   "outputs": []
  },
  {
   "source": [
    "## 保存模型\n",
    "\n",
    "对比了以上的三个模型，其中准确率最高的是xgboost分类器，决定保存该模型进行后续的处理"
   ],
   "cell_type": "markdown",
   "metadata": {}
  },
  {
   "cell_type": "code",
   "execution_count": 52,
   "metadata": {},
   "outputs": [],
   "source": [
    "# save xgboost classifier model\n",
    "import pickle\n",
    "\n",
    "savemodel_path = '../models/xgb_clf.pickle.dat'\n",
    "pickle.dump(xgb_model, open(savemodel_path, \"wb\"))"
   ]
  },
  {
   "cell_type": "code",
   "execution_count": 53,
   "metadata": {},
   "outputs": [],
   "source": [
    "# load model\n",
    "loaded_model = pickle.load(open(savemodel_path, 'rb'))\n",
    "y_pred = loaded_model.predict(X_valid)"
   ]
  },
  {
   "cell_type": "code",
   "execution_count": 54,
   "metadata": {},
   "outputs": [
    {
     "output_type": "execute_result",
     "data": {
      "text/plain": [
       "0.747488674414024"
      ]
     },
     "metadata": {},
     "execution_count": 54
    }
   ],
   "source": [
    "(y_pred.ravel() == y_valid.ravel()).sum()/len(y_valid)"
   ]
  },
  {
   "cell_type": "code",
   "execution_count": 55,
   "metadata": {},
   "outputs": [
    {
     "output_type": "execute_result",
     "data": {
      "text/plain": [
       "array([[2995,  447,  461],\n",
       "       [ 531, 1254,  266],\n",
       "       [ 568,  291, 3341]])"
      ]
     },
     "metadata": {},
     "execution_count": 55
    }
   ],
   "source": [
    "confusion_matrix(y_pred, y_valid)"
   ]
  }
 ]
}